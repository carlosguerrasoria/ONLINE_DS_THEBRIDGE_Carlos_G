{
  "cells": [
    {
      "cell_type": "markdown",
      "metadata": {
        "id": "qEqe-5orhEPe"
      },
      "source": [
        "![image.png](attachment:2d551f07-161e-4fb5-8475-4602b8dfe4ad.png)"
      ]
    },
    {
      "cell_type": "markdown",
      "metadata": {
        "id": "4JQsFN-mhEPg"
      },
      "source": [
        "![image.png](attachment:c02d1fc9-343b-419b-b3c2-1a75cb0a6a71.png)"
      ]
    },
    {
      "cell_type": "markdown",
      "metadata": {
        "id": "LFdOWOUXhEPg"
      },
      "source": [
        "Para ejercitarte y afianzar lo aprendido sobre **Embeddings y procesamiento de texto**, completa los siguientes ejercicios. Recuerda que necesitarás datos que están en el directorio data que acompaña al notebook (búscalo en el repositorio de ejercicios).\n",
        "\n",
        "La solución a los mismos las tienes ya, y en este caso se te invita a QUE SIGAS EL EJERCICIO CON LA SOLUCION a modo de tutorial ya que hay varios aspectos que son nuevos y se introducen en la solución."
      ]
    },
    {
      "cell_type": "markdown",
      "metadata": {
        "id": "SZUQErGewZxE"
      },
      "source": [
        "### Ejercicio 0\n",
        "\n",
        "Importa las librerías necesarias"
      ]
    },
    {
      "cell_type": "code",
      "execution_count": 1,
      "metadata": {
        "id": "RutaI-Tpev3T"
      },
      "outputs": [],
      "source": [
        "import io\n",
        "import numpy as np\n",
        "import os\n",
        "import re\n",
        "import shutil\n",
        "import string\n",
        "import tensorflow as tf\n",
        "\n",
        "from tensorflow.keras import Sequential\n",
        "from tensorflow.keras.layers import Dense, Embedding, GlobalAveragePooling1D, TextVectorization"
      ]
    },
    {
      "cell_type": "markdown",
      "metadata": {
        "id": "SBFctV8-JZOc"
      },
      "source": [
        "### Ejercicio 1: Descarga el dataset\n",
        "\n",
        "Usarás el [Conjunto de Datos de Grandes Reseñas de Películas](http://ai.stanford.edu/~amaas/data/sentiment/) a lo largo del tutorial. Entrenarás un modelo de clasificador de sentimientos con este conjunto de datos y, en el proceso, aprenderás embeddings desde cero. \n",
        "\n",
        "Descarga el conjunto de datos utilizando la utilidad de archivos de Keras y echa un vistazo a los directorios."
      ]
    },
    {
      "cell_type": "code",
      "execution_count": 2,
      "metadata": {
        "colab": {
          "base_uri": "https://localhost:8080/"
        },
        "id": "ZnoJN2SohEPi",
        "outputId": "fe41bb7f-0490-4dd4-8f8d-3304833353d2"
      },
      "outputs": [
        {
          "name": "stdout",
          "output_type": "stream",
          "text": [
            "Downloading data from https://ai.stanford.edu/~amaas/data/sentiment/aclImdb_v1.tar.gz\n",
            "\u001b[1m84125825/84125825\u001b[0m \u001b[32m━━━━━━━━━━━━━━━━━━━━\u001b[0m\u001b[37m\u001b[0m \u001b[1m3s\u001b[0m 0us/step\n"
          ]
        }
      ],
      "source": [
        "url = \"https://ai.stanford.edu/~amaas/data/sentiment/aclImdb_v1.tar.gz\"\n",
        "\n",
        "dataset = tf.keras.utils.get_file(\"aclImdb_v1.tar.gz\", url,\n",
        "                                  untar=True, cache_dir='.',\n",
        "                                  cache_subdir='')"
      ]
    },
    {
      "cell_type": "code",
      "execution_count": 3,
      "metadata": {
        "id": "4k7TBCeohEPi"
      },
      "outputs": [],
      "source": [
        "dataset = tf.keras.utils.get_file(\"aclImdb_v1.tar.gz\", origin = 'file:/./aclImdb_v1.tar.gz',\n",
        "                                  untar=True, cache_dir='.',\n",
        "                                  cache_subdir='')"
      ]
    },
    {
      "cell_type": "code",
      "execution_count": 4,
      "metadata": {
        "colab": {
          "base_uri": "https://localhost:8080/"
        },
        "id": "OeV_Ke-6hEPi",
        "outputId": "76ab7da0-be5a-4b42-c63a-de8b40cd858f"
      },
      "outputs": [
        {
          "name": "stdout",
          "output_type": "stream",
          "text": [
            "./aclImdb_v1\n"
          ]
        }
      ],
      "source": [
        "print(dataset)"
      ]
    },
    {
      "cell_type": "code",
      "execution_count": 5,
      "metadata": {
        "colab": {
          "base_uri": "https://localhost:8080/"
        },
        "id": "aoegeWiGhEPi",
        "outputId": "5cd2d5c9-f4b0-49dc-8ec2-44de5a0353ce"
      },
      "outputs": [
        {
          "name": "stdout",
          "output_type": "stream",
          "text": [
            "/content\n"
          ]
        }
      ],
      "source": [
        "print(os.getcwd())"
      ]
    },
    {
      "cell_type": "markdown",
      "metadata": {
        "id": "STHEMjifhEPi"
      },
      "source": [
        "### Ejercicio 2"
      ]
    },
    {
      "cell_type": "markdown",
      "metadata": {
        "id": "eY6yROZNKvbd"
      },
      "source": [
        "Echa un vistazo al directorio train/. Tiene carpetas pos y neg con reseñas de películas etiquetadas como positivas y negativas respectivamente. Utilizarás reseñas de las carpetas pos y neg para entrenar un modelo de clasificación binaria."
      ]
    },
    {
      "cell_type": "code",
      "execution_count": 6,
      "metadata": {
        "colab": {
          "base_uri": "https://localhost:8080/"
        },
        "id": "9-iOHJGN6SDu",
        "outputId": "72308dc4-5198-43df-a079-e8c8c88a8765"
      },
      "outputs": [
        {
          "data": {
            "text/plain": [
              "['unsup',\n",
              " 'labeledBow.feat',\n",
              " 'urls_unsup.txt',\n",
              " 'pos',\n",
              " 'urls_neg.txt',\n",
              " 'urls_pos.txt',\n",
              " 'neg',\n",
              " 'unsupBow.feat']"
            ]
          },
          "execution_count": 6,
          "metadata": {},
          "output_type": "execute_result"
        }
      ],
      "source": [
        "dataset_dir = \"./aclImdb\"\n",
        "train_dir = os.path.join(dataset_dir, 'train')\n",
        "os.listdir(train_dir)"
      ]
    },
    {
      "cell_type": "markdown",
      "metadata": {
        "id": "JCs4BbllhEPj"
      },
      "source": [
        "### Ejercicio 3"
      ]
    },
    {
      "cell_type": "markdown",
      "metadata": {
        "id": "9O59BdioK8jY"
      },
      "source": [
        "El directorio `train` también tiene carpetas adicionales que deberían ser eliminadas antes de crear el conjunto de datos de entrenamiento."
      ]
    },
    {
      "cell_type": "code",
      "execution_count": 7,
      "metadata": {
        "id": "OV4ARuRphEPj"
      },
      "outputs": [],
      "source": [
        "shutil.rmtree(dataset_dir + \"/train/unsup\")"
      ]
    },
    {
      "cell_type": "markdown",
      "metadata": {
        "id": "ay45Npg8hEPj"
      },
      "source": [
        "### Ejercicio 4"
      ]
    },
    {
      "cell_type": "markdown",
      "metadata": {
        "id": "oFoJjiEyJz9u"
      },
      "source": [
        "A continuación, crea un tf.data.Dataset usando tf.keras.preprocessing.text_dataset_from_directory. Puedes leer más sobre cómo utilizar esta utilidad en este [tutorial de clasificación de texto](https://www.tensorflow.org/tutorials/keras/text_classification).\n",
        "\n",
        "Usa el directorio de entrenamiento para crear conjuntos de datos de entrenamiento y validación con una división del 20% para la validación."
      ]
    },
    {
      "cell_type": "code",
      "execution_count": 8,
      "metadata": {
        "colab": {
          "base_uri": "https://localhost:8080/"
        },
        "id": "ItYD3TLkCOP1",
        "outputId": "74f7c287-c20d-41f2-a5b1-dd04bfe366d7"
      },
      "outputs": [
        {
          "name": "stdout",
          "output_type": "stream",
          "text": [
            "Found 25000 files belonging to 2 classes.\n",
            "Using 20000 files for training.\n",
            "Found 25000 files belonging to 2 classes.\n",
            "Using 5000 files for validation.\n"
          ]
        }
      ],
      "source": [
        "batch_size = 1024\n",
        "seed = 123\n",
        "\n",
        "'''\n",
        "Busca en un directorio todas las carpetas. Cada carpeta es una etiqueta\n",
        "Y cada archivo una review. Podemos especificar si es para el subset\n",
        "de training o validation y cuanto dejamos para validacion.\n",
        "Esto crea un tf.data.Dataset\n",
        "ELIMINAR UNA CARPETA EN TRAIN, QUE SOBRA\n",
        "'''\n",
        "\n",
        "train_ds = tf.keras.preprocessing.text_dataset_from_directory(\n",
        "    train_dir,\n",
        "    batch_size=batch_size,\n",
        "    validation_split=0.2,\n",
        "    subset='training',\n",
        "    seed=seed)\n",
        "\n",
        "val_ds = tf.keras.preprocessing.text_dataset_from_directory(\n",
        "    train_dir,\n",
        "    batch_size=batch_size,\n",
        "    validation_split=0.2,\n",
        "    subset='validation', # Esto y la semilla permiten que las muestras con train no se superpongan\n",
        "    seed=seed)"
      ]
    },
    {
      "cell_type": "markdown",
      "metadata": {
        "id": "eHa6cq0-Ym0g"
      },
      "source": [
        "*Echa un vistazo a algunas reseñas de películas y sus etiquetas (1: positiva, 0: negativa) del conjunto de datos de entrenamiento.*\n"
      ]
    },
    {
      "cell_type": "code",
      "execution_count": 9,
      "metadata": {
        "colab": {
          "base_uri": "https://localhost:8080/"
        },
        "id": "aTCbSkvkYmTT",
        "outputId": "0f12d7bd-8fdb-4b6c-8d2c-47a5fa55a833",
        "scrolled": true
      },
      "outputs": [
        {
          "name": "stdout",
          "output_type": "stream",
          "text": [
            "b'Oh My God! Please, for the love of all that is holy, Do Not Watch This Movie! It it 82 minutes of my life I will never get back. Sure, I could have st' ...\n",
            "Label: 0 (Negative)\n",
            "b'This movie is SOOOO funny!!! The acting is WONDERFUL, the Ramones are sexy, the jokes are subtle, and the plot is just what every high schooler dreams' ...\n",
            "Label: 1 (Positive)\n",
            "b'Alex D. Linz replaces Macaulay Culkin as the central figure in the third movie in the Home Alone empire. Four industrial spies acquire a missile guida' ...\n",
            "Label: 0 (Negative)\n",
            "b\"There's a good movie lurking here, but this isn't it. The basic idea is good: to explore the moral issues that would face a group of young survivors o\" ...\n",
            "Label: 0 (Negative)\n",
            "b'I saw this movie at an actual movie theater (probably the $2.00 one) with my cousin and uncle. We were around 11 and 12, I guess, and really into scar' ...\n",
            "Label: 0 (Negative)\n"
          ]
        }
      ],
      "source": [
        "for text_batch, label_batch in train_ds.take(1): # Cogemos el primer batch\n",
        "    for i in range(5): # 1025 da error xq no hay mas en este batch\n",
        "        print(text_batch.numpy()[i][:150],\"...\")\n",
        "        print(\"Label:\",label_batch[i].numpy(),\"(%s)\" %(\"Positive\" if label_batch.numpy()[i] == 1 else \"Negative\"))"
      ]
    },
    {
      "cell_type": "markdown",
      "metadata": {
        "id": "FHV2pchDhzDn"
      },
      "source": [
        "### Ejercicio 5: Configura el dataset para mejorar el rendimiento (mira la solución)\n",
        "\n",
        "Estos son dos métodos importantes que deberías usar al cargar datos para asegurarte de que las operaciones de entrada/salida no se conviertan en un bloqueo.\n",
        "\n",
        "`.cache()` mantiene los datos en memoria después de ser cargados desde el disco. Esto garantizará que el conjunto de datos no se convierta en un cuello de botella mientras entrenas tu modelo. Si tu conjunto de datos es demasiado grande para caber en la memoria, también puedes usar este método para crear una caché en disco eficiente, la cual es más eficiente para leer que muchos archivos pequeños.\n",
        "\n",
        "`.prefetch()` solapa el preprocesado de datos y la ejecución del modelo durante el entrenamiento.\n",
        "\n",
        "Puedes aprender más sobre ambos métodos, así como cómo cachear datos en disco en la [guía de rendimiento de datos](https://www.tensorflow.org/guide/data_performance).\n",
        "\n"
      ]
    },
    {
      "cell_type": "code",
      "execution_count": 10,
      "metadata": {
        "id": "Oz6k1IW7h1TO"
      },
      "outputs": [],
      "source": [
        "AUTOTUNE = tf.data.AUTOTUNE\n",
        "\n",
        "train_ds = train_ds.cache().prefetch(buffer_size=AUTOTUNE)\n",
        "val_ds = val_ds.cache().prefetch(buffer_size=AUTOTUNE)"
      ]
    },
    {
      "cell_type": "markdown",
      "metadata": {
        "id": "eqBazMiVQkj1"
      },
      "source": [
        "### Ejercicio 6: Repasando Embeddings"
      ]
    },
    {
      "cell_type": "markdown",
      "metadata": {
        "id": "W3_gGUTRhEPk"
      },
      "source": [
        "Crea una capa de Embedding con dimensión de entrada 1000 y dimensión de salida 4. Codifica las frases \"Me llamo Iñigo Montoya\", \"Tú mataste a mi padre\", \"Disponte a morir\" (tendrás que crear una capa adicional). Haz la codificación de cada una por separado y luego prueba a ponerlas todas juntas en una misma lista. Ojo, cada frase la tienes que convertir a una lista de palabras. ¿Qué ocurre en este último caso? [Haz el ejercicio y luego mira la solución]"
      ]
    },
    {
      "cell_type": "code",
      "execution_count": 11,
      "metadata": {
        "colab": {
          "base_uri": "https://localhost:8080/"
        },
        "id": "1j3WOI2ghEPk",
        "outputId": "bb089035-4a2e-40b3-d8a5-3a6e2125abe7"
      },
      "outputs": [
        {
          "name": "stdout",
          "output_type": "stream",
          "text": [
            "Para <Me llamo Iñigo Montoya>, embeddings: [[[-0.0354102   0.03854482 -0.02025436  0.0217932 ]\n",
            "  [-0.00492215  0.0150325  -0.04012159 -0.00819355]\n",
            "  [ 0.04249823 -0.01638879 -0.01049367  0.01021466]\n",
            "  [-0.00681529  0.01602218  0.01090693 -0.04489028]]]\n",
            "Para <Tú mataste a mi padre>, embeddings: [[[-0.02031938 -0.0254392   0.02185282 -0.04154699]\n",
            "  [ 0.01602909 -0.0159578   0.00244582  0.03570867]\n",
            "  [ 0.01610973  0.04988063 -0.01918857 -0.03893697]\n",
            "  [-0.02804652 -0.03308449  0.02891128  0.00958354]\n",
            "  [-0.01241646  0.04172878 -0.04102042  0.01506949]]]\n",
            "Para <Disponte a morir>, embeddings: [[[-3.7730765e-02 -4.6236396e-02 -4.6025395e-02  1.0827769e-02]\n",
            "  [ 1.6109731e-02  4.9880635e-02 -1.9188572e-02 -3.8936973e-02]\n",
            "  [-4.0102124e-02 -2.5413930e-05  3.6484148e-02 -2.5095154e-02]]]\n"
          ]
        }
      ],
      "source": [
        "frases = [\"Me llamo Iñigo Montoya\", \"Tú mataste a mi padre\", \"Disponte a morir\"]\n",
        "\n",
        "layer_test = Embedding(input_dim=1000, output_dim= 4)\n",
        "pre_procesado = tf.keras.layers.StringLookup()\n",
        "pre_procesado.adapt(\" \".join(frases).split())\n",
        "conversor_fake = tf.keras.models.Sequential(\n",
        "    [pre_procesado,\n",
        "     layer_test])\n",
        "resultados = []\n",
        "for frase in frases:\n",
        "    resultados.append(conversor_fake(tf.constant([frase.split()])))\n",
        "    print(f\"Para <{frase}>, embeddings: {resultados[-1].numpy()}\")"
      ]
    },
    {
      "cell_type": "markdown",
      "metadata": {
        "id": "kcei85jdhEPk"
      },
      "source": [
        "*Para problemas de texto o secuencias, la capa Embedding toma un tensor 2D de enteros, de forma (muestras, longitud_de_secuencia), donde cada entrada es una secuencia de enteros. Puede incrustar secuencias de longitudes variables. Podrías alimentar la capa de incrustación con lotes de formas (32, 10) (lote de 32 secuencias de longitud 10) o (64, 15) (lote de 64 secuencias de longitud 15). Como se ve al meter frasess de diferente tamaño POR SEPARADO, pero fijate en cuando pruebas con todas las frases juntas.*\n",
        "\n",
        "*Por otro lado El tensor devuelto tiene un eje más que la entrada, los vectores de incrustación se alinean a lo largo del nuevo último eje. Pásale un lote de entrada (2, 3) y la salida es (2, 3, N). Es decir, conjuntando lo anterior y este punto, si le pasas secuencias de diferente tamaño te devuelve secuencias de diferente tamaño y eso tendremos que \"ajustarlo\" para las siguientes capas. Ahora hagamos el intento de lanzar todo junto:*"
      ]
    },
    {
      "cell_type": "code",
      "execution_count": 12,
      "metadata": {
        "colab": {
          "base_uri": "https://localhost:8080/",
          "height": 287
        },
        "id": "M3pgNXFhhEPl",
        "outputId": "ce258717-0212-42d4-b374-c24c482beb43"
      },
      "outputs": [
        {
          "ename": "ValueError",
          "evalue": "Can't convert non-rectangular Python sequence to Tensor.",
          "output_type": "error",
          "traceback": [
            "\u001b[0;31m---------------------------------------------------------------------------\u001b[0m",
            "\u001b[0;31mValueError\u001b[0m                                Traceback (most recent call last)",
            "\u001b[0;32m<ipython-input-12-261f831ace07>\u001b[0m in \u001b[0;36m<cell line: 1>\u001b[0;34m()\u001b[0m\n\u001b[0;32m----> 1\u001b[0;31m \u001b[0mconversor_fake\u001b[0m\u001b[0;34m(\u001b[0m\u001b[0mtf\u001b[0m\u001b[0;34m.\u001b[0m\u001b[0mconstant\u001b[0m\u001b[0;34m(\u001b[0m\u001b[0;34m[\u001b[0m\u001b[0mfrase\u001b[0m\u001b[0;34m.\u001b[0m\u001b[0msplit\u001b[0m\u001b[0;34m(\u001b[0m\u001b[0;34m)\u001b[0m \u001b[0;32mfor\u001b[0m \u001b[0mfrase\u001b[0m \u001b[0;32min\u001b[0m \u001b[0mfrases\u001b[0m\u001b[0;34m]\u001b[0m\u001b[0;34m)\u001b[0m\u001b[0;34m)\u001b[0m\u001b[0;34m\u001b[0m\u001b[0;34m\u001b[0m\u001b[0m\n\u001b[0m",
            "\u001b[0;32m/usr/local/lib/python3.10/dist-packages/tensorflow/python/ops/weak_tensor_ops.py\u001b[0m in \u001b[0;36mwrapper\u001b[0;34m(*args, **kwargs)\u001b[0m\n\u001b[1;32m    140\u001b[0m   \u001b[0;32mdef\u001b[0m \u001b[0mwrapper\u001b[0m\u001b[0;34m(\u001b[0m\u001b[0;34m*\u001b[0m\u001b[0margs\u001b[0m\u001b[0;34m,\u001b[0m \u001b[0;34m**\u001b[0m\u001b[0mkwargs\u001b[0m\u001b[0;34m)\u001b[0m\u001b[0;34m:\u001b[0m\u001b[0;34m\u001b[0m\u001b[0;34m\u001b[0m\u001b[0m\n\u001b[1;32m    141\u001b[0m     \u001b[0;32mif\u001b[0m \u001b[0;32mnot\u001b[0m \u001b[0mops\u001b[0m\u001b[0;34m.\u001b[0m\u001b[0mis_auto_dtype_conversion_enabled\u001b[0m\u001b[0;34m(\u001b[0m\u001b[0;34m)\u001b[0m\u001b[0;34m:\u001b[0m\u001b[0;34m\u001b[0m\u001b[0;34m\u001b[0m\u001b[0m\n\u001b[0;32m--> 142\u001b[0;31m       \u001b[0;32mreturn\u001b[0m \u001b[0mop\u001b[0m\u001b[0;34m(\u001b[0m\u001b[0;34m*\u001b[0m\u001b[0margs\u001b[0m\u001b[0;34m,\u001b[0m \u001b[0;34m**\u001b[0m\u001b[0mkwargs\u001b[0m\u001b[0;34m)\u001b[0m\u001b[0;34m\u001b[0m\u001b[0;34m\u001b[0m\u001b[0m\n\u001b[0m\u001b[1;32m    143\u001b[0m     \u001b[0mbound_arguments\u001b[0m \u001b[0;34m=\u001b[0m \u001b[0msignature\u001b[0m\u001b[0;34m.\u001b[0m\u001b[0mbind\u001b[0m\u001b[0;34m(\u001b[0m\u001b[0;34m*\u001b[0m\u001b[0margs\u001b[0m\u001b[0;34m,\u001b[0m \u001b[0;34m**\u001b[0m\u001b[0mkwargs\u001b[0m\u001b[0;34m)\u001b[0m\u001b[0;34m\u001b[0m\u001b[0;34m\u001b[0m\u001b[0m\n\u001b[1;32m    144\u001b[0m     \u001b[0mbound_arguments\u001b[0m\u001b[0;34m.\u001b[0m\u001b[0mapply_defaults\u001b[0m\u001b[0;34m(\u001b[0m\u001b[0;34m)\u001b[0m\u001b[0;34m\u001b[0m\u001b[0;34m\u001b[0m\u001b[0m\n",
            "\u001b[0;32m/usr/local/lib/python3.10/dist-packages/tensorflow/python/framework/constant_op.py\u001b[0m in \u001b[0;36mconstant\u001b[0;34m(value, dtype, shape, name)\u001b[0m\n\u001b[1;32m    274\u001b[0m     \u001b[0mValueError\u001b[0m\u001b[0;34m:\u001b[0m \u001b[0;32mif\u001b[0m \u001b[0mcalled\u001b[0m \u001b[0mon\u001b[0m \u001b[0ma\u001b[0m \u001b[0msymbolic\u001b[0m \u001b[0mtensor\u001b[0m\u001b[0;34m.\u001b[0m\u001b[0;34m\u001b[0m\u001b[0;34m\u001b[0m\u001b[0m\n\u001b[1;32m    275\u001b[0m   \"\"\"\n\u001b[0;32m--> 276\u001b[0;31m   return _constant_impl(value, dtype, shape, name, verify_shape=False,\n\u001b[0m\u001b[1;32m    277\u001b[0m                         allow_broadcast=True)\n\u001b[1;32m    278\u001b[0m \u001b[0;34m\u001b[0m\u001b[0m\n",
            "\u001b[0;32m/usr/local/lib/python3.10/dist-packages/tensorflow/python/framework/constant_op.py\u001b[0m in \u001b[0;36m_constant_impl\u001b[0;34m(value, dtype, shape, name, verify_shape, allow_broadcast)\u001b[0m\n\u001b[1;32m    287\u001b[0m       \u001b[0;32mwith\u001b[0m \u001b[0mtrace\u001b[0m\u001b[0;34m.\u001b[0m\u001b[0mTrace\u001b[0m\u001b[0;34m(\u001b[0m\u001b[0;34m\"tf.constant\"\u001b[0m\u001b[0;34m)\u001b[0m\u001b[0;34m:\u001b[0m\u001b[0;34m\u001b[0m\u001b[0;34m\u001b[0m\u001b[0m\n\u001b[1;32m    288\u001b[0m         \u001b[0;32mreturn\u001b[0m \u001b[0m_constant_eager_impl\u001b[0m\u001b[0;34m(\u001b[0m\u001b[0mctx\u001b[0m\u001b[0;34m,\u001b[0m \u001b[0mvalue\u001b[0m\u001b[0;34m,\u001b[0m \u001b[0mdtype\u001b[0m\u001b[0;34m,\u001b[0m \u001b[0mshape\u001b[0m\u001b[0;34m,\u001b[0m \u001b[0mverify_shape\u001b[0m\u001b[0;34m)\u001b[0m\u001b[0;34m\u001b[0m\u001b[0;34m\u001b[0m\u001b[0m\n\u001b[0;32m--> 289\u001b[0;31m     \u001b[0;32mreturn\u001b[0m \u001b[0m_constant_eager_impl\u001b[0m\u001b[0;34m(\u001b[0m\u001b[0mctx\u001b[0m\u001b[0;34m,\u001b[0m \u001b[0mvalue\u001b[0m\u001b[0;34m,\u001b[0m \u001b[0mdtype\u001b[0m\u001b[0;34m,\u001b[0m \u001b[0mshape\u001b[0m\u001b[0;34m,\u001b[0m \u001b[0mverify_shape\u001b[0m\u001b[0;34m)\u001b[0m\u001b[0;34m\u001b[0m\u001b[0;34m\u001b[0m\u001b[0m\n\u001b[0m\u001b[1;32m    290\u001b[0m \u001b[0;34m\u001b[0m\u001b[0m\n\u001b[1;32m    291\u001b[0m   const_tensor = ops._create_graph_constant(  # pylint: disable=protected-access\n",
            "\u001b[0;32m/usr/local/lib/python3.10/dist-packages/tensorflow/python/framework/constant_op.py\u001b[0m in \u001b[0;36m_constant_eager_impl\u001b[0;34m(ctx, value, dtype, shape, verify_shape)\u001b[0m\n\u001b[1;32m    299\u001b[0m ) -> ops._EagerTensorBase:\n\u001b[1;32m    300\u001b[0m   \u001b[0;34m\"\"\"Creates a constant on the current device.\"\"\"\u001b[0m\u001b[0;34m\u001b[0m\u001b[0;34m\u001b[0m\u001b[0m\n\u001b[0;32m--> 301\u001b[0;31m   \u001b[0mt\u001b[0m \u001b[0;34m=\u001b[0m \u001b[0mconvert_to_eager_tensor\u001b[0m\u001b[0;34m(\u001b[0m\u001b[0mvalue\u001b[0m\u001b[0;34m,\u001b[0m \u001b[0mctx\u001b[0m\u001b[0;34m,\u001b[0m \u001b[0mdtype\u001b[0m\u001b[0;34m)\u001b[0m\u001b[0;34m\u001b[0m\u001b[0;34m\u001b[0m\u001b[0m\n\u001b[0m\u001b[1;32m    302\u001b[0m   \u001b[0;32mif\u001b[0m \u001b[0mshape\u001b[0m \u001b[0;32mis\u001b[0m \u001b[0;32mNone\u001b[0m\u001b[0;34m:\u001b[0m\u001b[0;34m\u001b[0m\u001b[0;34m\u001b[0m\u001b[0m\n\u001b[1;32m    303\u001b[0m     \u001b[0;32mreturn\u001b[0m \u001b[0mt\u001b[0m\u001b[0;34m\u001b[0m\u001b[0;34m\u001b[0m\u001b[0m\n",
            "\u001b[0;32m/usr/local/lib/python3.10/dist-packages/tensorflow/python/framework/constant_op.py\u001b[0m in \u001b[0;36mconvert_to_eager_tensor\u001b[0;34m(value, ctx, dtype)\u001b[0m\n\u001b[1;32m    106\u001b[0m       \u001b[0mdtype\u001b[0m \u001b[0;34m=\u001b[0m \u001b[0mdtypes\u001b[0m\u001b[0;34m.\u001b[0m\u001b[0mas_dtype\u001b[0m\u001b[0;34m(\u001b[0m\u001b[0mdtype\u001b[0m\u001b[0;34m)\u001b[0m\u001b[0;34m.\u001b[0m\u001b[0mas_datatype_enum\u001b[0m\u001b[0;34m\u001b[0m\u001b[0;34m\u001b[0m\u001b[0m\n\u001b[1;32m    107\u001b[0m   \u001b[0mctx\u001b[0m\u001b[0;34m.\u001b[0m\u001b[0mensure_initialized\u001b[0m\u001b[0;34m(\u001b[0m\u001b[0;34m)\u001b[0m\u001b[0;34m\u001b[0m\u001b[0;34m\u001b[0m\u001b[0m\n\u001b[0;32m--> 108\u001b[0;31m   \u001b[0;32mreturn\u001b[0m \u001b[0mops\u001b[0m\u001b[0;34m.\u001b[0m\u001b[0mEagerTensor\u001b[0m\u001b[0;34m(\u001b[0m\u001b[0mvalue\u001b[0m\u001b[0;34m,\u001b[0m \u001b[0mctx\u001b[0m\u001b[0;34m.\u001b[0m\u001b[0mdevice_name\u001b[0m\u001b[0;34m,\u001b[0m \u001b[0mdtype\u001b[0m\u001b[0;34m)\u001b[0m\u001b[0;34m\u001b[0m\u001b[0;34m\u001b[0m\u001b[0m\n\u001b[0m\u001b[1;32m    109\u001b[0m \u001b[0;34m\u001b[0m\u001b[0m\n\u001b[1;32m    110\u001b[0m \u001b[0;34m\u001b[0m\u001b[0m\n",
            "\u001b[0;31mValueError\u001b[0m: Can't convert non-rectangular Python sequence to Tensor."
          ]
        }
      ],
      "source": [
        "conversor_fake(tf.constant([frase.split() for frase in frases]))"
      ]
    },
    {
      "cell_type": "markdown",
      "metadata": {
        "id": "6iLb1I-YhEPl"
      },
      "source": [
        "*Los tensores son estructuras \"rectangulares\" eso de meterle secuencias de longitud variable nos lleva a un primer punto que debéis conocer si vais a trabajar con NLP en DL... __Es necesario hacer Padding__, es decir hacer secuencias de un tamaño fijo rellenando con \"ceros\" las secuencias más cortas.*\n",
        "\n"
      ]
    },
    {
      "cell_type": "code",
      "execution_count": 13,
      "metadata": {
        "colab": {
          "base_uri": "https://localhost:8080/"
        },
        "id": "qQGSgaRQhEPl",
        "outputId": "c7a3dd50-4efe-4efb-9e80-f8d8a93a7c7f"
      },
      "outputs": [
        {
          "name": "stdout",
          "output_type": "stream",
          "text": [
            "5\n",
            "['Me', 'llamo', 'Iñigo', 'Montoya'] 4 5\n",
            "['Me', 'llamo', 'Iñigo', 'Montoya', '<relleno>']\n",
            "['Tú', 'mataste', 'a', 'mi', 'padre'] 5 5\n",
            "['Tú', 'mataste', 'a', 'mi', 'padre']\n",
            "['Disponte', 'a', 'morir'] 3 5\n",
            "['Disponte', 'a', 'morir', '<relleno>', '<relleno>']\n",
            "[['Me', 'llamo', 'Iñigo', 'Montoya', '<relleno>'], ['Tú', 'mataste', 'a', 'mi', 'padre'], ['Disponte', 'a', 'morir', '<relleno>', '<relleno>']]\n",
            "tf.Tensor(\n",
            "[[b'Me' b'llamo' b'I\\xc3\\xb1igo' b'Montoya' b'<relleno>']\n",
            " [b'T\\xc3\\xba' b'mataste' b'a' b'mi' b'padre']\n",
            " [b'Disponte' b'a' b'morir' b'<relleno>' b'<relleno>']], shape=(3, 5), dtype=string)\n"
          ]
        },
        {
          "data": {
            "text/plain": [
              "<tf.Tensor: shape=(3, 5, 4), dtype=float32, numpy=\n",
              "array([[[-3.5410203e-02,  3.8544822e-02, -2.0254362e-02,  2.1793198e-02],\n",
              "        [-4.9221516e-03,  1.5032496e-02, -4.0121593e-02, -8.1935525e-03],\n",
              "        [ 4.2498235e-02, -1.6388785e-02, -1.0493673e-02,  1.0214664e-02],\n",
              "        [-6.8152919e-03,  1.6022179e-02,  1.0906935e-02, -4.4890285e-02],\n",
              "        [-3.6646474e-02, -2.7324796e-02,  4.1215871e-02,  4.9805854e-02]],\n",
              "\n",
              "       [[-2.0319378e-02, -2.5439203e-02,  2.1852825e-02, -4.1546989e-02],\n",
              "        [ 1.6029086e-02, -1.5957795e-02,  2.4458170e-03,  3.5708670e-02],\n",
              "        [ 1.6109731e-02,  4.9880635e-02, -1.9188572e-02, -3.8936973e-02],\n",
              "        [-2.8046524e-02, -3.3084489e-02,  2.8911281e-02,  9.5835440e-03],\n",
              "        [-1.2416460e-02,  4.1728783e-02, -4.1020416e-02,  1.5069488e-02]],\n",
              "\n",
              "       [[-3.7730765e-02, -4.6236396e-02, -4.6025395e-02,  1.0827769e-02],\n",
              "        [ 1.6109731e-02,  4.9880635e-02, -1.9188572e-02, -3.8936973e-02],\n",
              "        [-4.0102124e-02, -2.5413930e-05,  3.6484148e-02, -2.5095154e-02],\n",
              "        [-3.6646474e-02, -2.7324796e-02,  4.1215871e-02,  4.9805854e-02],\n",
              "        [-3.6646474e-02, -2.7324796e-02,  4.1215871e-02,  4.9805854e-02]]],\n",
              "      dtype=float32)>"
            ]
          },
          "execution_count": 13,
          "metadata": {},
          "output_type": "execute_result"
        }
      ],
      "source": [
        "tam_maximo = max([len(frase.split()) for frase in frases])\n",
        "print(tam_maximo)\n",
        "frases_padded = []\n",
        "for frase in frases:\n",
        "    sentence = frase.split()\n",
        "    print(sentence, len(sentence), tam_maximo)\n",
        "    sentence += [\"<relleno>\" for i in range(len(sentence),tam_maximo)]\n",
        "    print(sentence)\n",
        "    frases_padded.append(sentence)\n",
        "print(frases_padded)\n",
        "print(tf.constant(frases_padded))\n",
        "conversor_fake(tf.constant(frases_padded))"
      ]
    },
    {
      "cell_type": "markdown",
      "metadata": {
        "id": "hf8zjh36hEPl"
      },
      "source": [
        "*Esto resuelve dos cosas: el hecho de que podamos meter las frases como batches completos, y la salida que también está fija, pero traerá otro problema, la descompensación entre frases largas y cortas, ya que en estas últimas habrá mucho \"relleno\". La forma de solucionarlo se llama \"masking\" o enmascaramiento y se hará usando una máscara por secuencia para indicarle a las capas qué valores son de relleno y no se han de usar*"
      ]
    },
    {
      "cell_type": "markdown",
      "metadata": {
        "id": "J5Vp4yH5hEPl"
      },
      "source": [
        "*Eso nos llevará a otro problema: las secuencias muy cortas estarán llenas de ceros y serán malinterpretadas, para corregir esto utilizaremos el concepto de __mask__ (lo veremos más adelante)*"
      ]
    },
    {
      "cell_type": "markdown",
      "metadata": {
        "id": "WGQp2N92yOyB"
      },
      "source": [
        "*Además del padding, para convertir de esta secuencia de longitud variable a una representación fija, hay una variedad de enfoques estándar. Podrías usar una capa RNN, Atención, o de agrupación antes de pasarla a una capa Densa. En estos ejercicios vamos a usar la agrupación con una capa de Pooling.*"
      ]
    },
    {
      "cell_type": "markdown",
      "metadata": {
        "id": "aGicgV5qT0wh"
      },
      "source": [
        "### Ejercicio 7: Procesado de Texto con vectorización"
      ]
    },
    {
      "cell_type": "markdown",
      "metadata": {
        "id": "N6NZSqIIoU0Y"
      },
      "source": [
        "A continuación, define los pasos de preprocesamiento del conjunto de datos necesarios para tu modelo de clasificación de sentimientos. Inicializa una capa de TextVectorization con los parámetros deseados para vectorizar las reseñas de películas. Recuerda que tendrás que limipiar (tambien se llama \"estandandizar\") las reseñas (como lo hicimos en su día o como en el workout o como lo hacemos, diferente, en la solución).\n",
        "\n",
        "Importante: En este ejercicio vamos a usar la capa de vectorización pero no para convertir las frases en conteos de palabras o sus tfidf, sino en listas de indices en un vocabulario. Por eso a la hora de inicializar la capa debes usar el output_mode = \"int\" (en el workout lo hemos empleado con \"count\" y con \"tf-idf\". Configura la capa de forma que ajuste su salida a secuencias o frases de 8 palabras.\n",
        "\n",
        "Prueba la nueva capa con las frases del ejercicio anterior.\n"
      ]
    },
    {
      "cell_type": "code",
      "execution_count": 14,
      "metadata": {
        "id": "2MlsXzo-ZlfK"
      },
      "outputs": [],
      "source": [
        "# Creamos una función de limpieza\n",
        "def custom_cleaner(input_data):\n",
        "    lowercase = tf.strings.lower(input_data) # lo convierte a mayúsculas\n",
        "    stripped_html = tf.strings.regex_replace(lowercase, '<br />', ' ') # le quita los codigos de cambio de línea\n",
        "    return tf.strings.regex_replace(stripped_html,\n",
        "                                  '[%s]' % re.escape(string.punctuation), '') #le quita los signos de puntuación\n",
        "\n",
        "\n",
        "sequence_length = 8\n",
        "\n",
        "# Veamos como la capa TextVectorization nos permite darle secuenccias de entrada y\n",
        "# nos devuelve el formato lista de índices, CON PADDING\n",
        "vectorize_layer = TextVectorization(\n",
        "    standardize=custom_cleaner,\n",
        "    output_mode='int', # el modo int eso hace que devuelva una secuencia con índices al vocabulario IMPORTANTE!!!\n",
        "    output_sequence_length=sequence_length) # Aquí le indicamos el tamaño de la secuencia de salida y con eso ya estamos diciéndole como queremos hacer el Padding.\n",
        "\n",
        "\n"
      ]
    },
    {
      "cell_type": "code",
      "execution_count": 15,
      "metadata": {
        "id": "BE_xF3DHhEPm"
      },
      "outputs": [],
      "source": [
        "vectorize_layer.adapt(frases)"
      ]
    },
    {
      "cell_type": "code",
      "execution_count": 16,
      "metadata": {
        "colab": {
          "base_uri": "https://localhost:8080/"
        },
        "id": "mvvNWNaYhEPm",
        "outputId": "de07fddb-d1fe-4e0b-f578-b838a1174039"
      },
      "outputs": [
        {
          "data": {
            "text/plain": [
              "<tf.Tensor: shape=(3, 8), dtype=int64, numpy=\n",
              "array([[ 8, 10, 11,  6,  0,  0,  0,  0],\n",
              "       [ 3,  9,  2,  7,  4,  0,  0,  0],\n",
              "       [12,  2,  5,  0,  0,  0,  0,  0]])>"
            ]
          },
          "execution_count": 16,
          "metadata": {},
          "output_type": "execute_result"
        }
      ],
      "source": [
        "vectorize_layer(frases)"
      ]
    },
    {
      "cell_type": "markdown",
      "metadata": {
        "id": "hcvx3r-ehEPm"
      },
      "source": [
        "*Fijate como ha hecho el padding hasta llegar a los 8 terminos que le hemos dado como sequence_length*"
      ]
    },
    {
      "cell_type": "code",
      "execution_count": 17,
      "metadata": {
        "colab": {
          "base_uri": "https://localhost:8080/"
        },
        "id": "J-jHwqjdhEPq",
        "outputId": "5af25bfb-799f-4cd3-d7e0-c46437e2670f"
      },
      "outputs": [
        {
          "name": "stdout",
          "output_type": "stream",
          "text": [
            "0 -> \n",
            "1 -> [UNK]\n",
            "2 -> a\n",
            "3 -> tú\n",
            "4 -> padre\n",
            "5 -> morir\n",
            "6 -> montoya\n",
            "7 -> mi\n",
            "8 -> me\n",
            "9 -> mataste\n",
            "10 -> llamo\n",
            "11 -> iñigo\n",
            "12 -> disponte\n"
          ]
        }
      ],
      "source": [
        "for indice,word in enumerate(vectorize_layer.get_vocabulary()):\n",
        "    print(\"%d -> %s\" %(indice,word))"
      ]
    },
    {
      "cell_type": "markdown",
      "metadata": {
        "id": "FmLbPzIrhEPq"
      },
      "source": [
        "El índice 0 se suele reservar para hacer el padding, como puedes observar en el resultado de las aplicar la capa a las frases del ejercicio anterior."
      ]
    },
    {
      "cell_type": "markdown",
      "metadata": {
        "id": "UpOKczaphEPq"
      },
      "source": [
        "Ahora a la salida del TextVectorization le aplicaremos la capa de Embeddings y luego a eso nuestras capas densas para hacer el modelo de clasificación"
      ]
    },
    {
      "cell_type": "markdown",
      "metadata": {
        "id": "v-hwoKhohEPr"
      },
      "source": [
        "### Ejercicio 8"
      ]
    },
    {
      "cell_type": "markdown",
      "metadata": {
        "id": "KI-I8FPohEPr"
      },
      "source": [
        "Recrea la capa del ejercicio anterior, llamándola vectorizer_layer. pero esta vez para un vocabulario de 1000 términos y para un tamaño de secuencia de 100 palabras. LUEGO ejecuta el código que tienes en la siguiente celda."
      ]
    },
    {
      "cell_type": "code",
      "execution_count": 18,
      "metadata": {
        "id": "Y864gxP8hEPr"
      },
      "outputs": [],
      "source": [
        "# Create a custom standardization function to strip HTML break tags '<br />'.\n",
        "def custom_standardization(input_data):\n",
        "    lowercase = tf.strings.lower(input_data) # lo convierte a mayúsculas\n",
        "    stripped_html = tf.strings.regex_replace(lowercase, '<br />', ' ') # le quita los codigos de cambio de línea\n",
        "    return tf.strings.regex_replace(stripped_html,\n",
        "                                  '[%s]' % re.escape(string.punctuation), '') #le quita los signos de puntuación\n",
        "\n",
        "\n",
        "# Vocabulary size and number of words in a sequence.\n",
        "vocab_size = 10000 # Vamos a permitir que tenga un vocabulario de 10000, las de mayor frecuencia el resto se codificará como UNK, o si hemos empleado OOV como esas categorías extra\n",
        "sequence_length = 100\n",
        "\n",
        "# Use the text vectorization layer to normalize, split, and map strings to\n",
        "# integers. Note that the layer uses the custom standardization defined above.\n",
        "# Set maximum_sequence length as all samples are not of the same length.\n",
        "vectorize_layer = TextVectorization(\n",
        "    standardize=custom_standardization,\n",
        "    max_tokens=vocab_size,\n",
        "    output_mode='int',\n",
        "    output_sequence_length=sequence_length)\n",
        "\n"
      ]
    },
    {
      "cell_type": "markdown",
      "metadata": {
        "id": "o0ZNawvXhEPr"
      },
      "source": [
        "**Para ejecutar después de la creación de la capa vectorize_layer**"
      ]
    },
    {
      "cell_type": "code",
      "execution_count": 19,
      "metadata": {
        "id": "Qb75R6jdhEPr"
      },
      "outputs": [],
      "source": [
        "# Make a text-only dataset (no labels) and call adapt to build the vocabulary.\n",
        "# Nos quitamos los labels de esta manera, que van en conjunto con features en train_ds\n",
        "text_ds = train_ds.map(lambda x, y: x)\n",
        "vectorize_layer.adapt(text_ds)"
      ]
    },
    {
      "cell_type": "markdown",
      "metadata": {
        "id": "Unc1IQLYhEPr"
      },
      "source": [
        "### Ejercicio 9\n",
        "\n",
        "Es hora de crear el modelo de clasificación. Tendrás que emplear una capa [\"GlobalAveragePooling1D\"](https://www.tensorflow.org/api_docs/python/tf/keras/layers/GlobalAveragePooling1D) e investigar por tu cuenta un poco sobre ella, aunque aquí te dejo algunos apuntes. En definitiva, tu modelo tiene que tener:\n",
        "\n",
        "* La capa [`TextVectorization`](https://www.tensorflow.org/api_docs/python/tf/keras/layers/experimental/preprocessing/TextVectorization) transforma cadenas en índices de vocabulario. Ya has inicializado `vectorize_layer` como una capa de TextVectorization y has construido su vocabulario llamando a `adapt` en `text_ds`. Ahora, vectorize_layer puede ser utilizada como la primera capa de tu modelo de clasificación de principio a fin, alimentando cadenas transformadas en la capa de Embedding. Utiliza una dimensión de salida de 16 en el embedding.\n",
        "  \n",
        "* La capa [`Embedding`](https://www.tensorflow.org/api_docs/python/tf/keras/layers/Embedding) toma el vocabulario codificado en enteros y busca el vector de incrustación para cada índice de palabra. Estos vectores se aprenden a medida que el modelo se entrena. Los vectores añaden una dimensión al arreglo de salida. Las dimensiones resultantes son: `(lote, secuencia, incrustación)`.\n",
        "\n",
        "* La capa [`GlobalAveragePooling1D`](https://www.tensorflow.org/api_docs/python/tf/keras/layers/GlobalAveragePooling1D) devuelve un vector de salida de longitud fija para cada ejemplo promediando sobre la dimensión de secuencia. Esto permite al modelo manejar entrada de longitud variable, de la manera más simple posible. Esta capa hace el sentence embedding que comentamos en el workout, es decir convierte la sentencia en un embedding que es el resultado de hacer la media de cada uno de sus word embeddings (sí es el centroide de sus embeddings) ya que es la forma más sencilla de hacer sentence embedding.\n",
        "\n",
        "* El vector de salida de longitud fija se pasa a través de una capa completamente conectada ([`Dense`](https://www.tensorflow.org/api_docs/python/tf/keras/layers/Dense)) con 16 unidades ocultas. (porque tenemos 16 de dimensión del embedding de palabra y de sentencia).\n",
        "\n",
        "* La última capa está densamente conectada con un único nodo de salida (por ser un clasificador binario).\n",
        "\n",
        "Precaución: Este modelo no utiliza enmascaramiento, por lo que el relleno de ceros se utiliza como parte de la entrada y, por lo tanto, la longitud del relleno puede afectar la salida. Para solucionar esto, consulta la [guía de enmascaramiento y relleno](https://www.tensorflow.org/guide/keras/masking_and_padding). Básicamente, al hacer el sentence embedding en frases cortas (imaginate una de una sola palabra, tendrá en nuestro caso 1 word-embedding y 99 de relleno) el embedding de la sentencia se ve completamente sesgado hacia el de relleno, por eso se usa el masking para decirle a la capa que sólo tenga en cuenta el embedding que no sea de relleno.y relleno."
      ]
    },
    {
      "cell_type": "code",
      "execution_count": 25,
      "metadata": {
        "id": "pHLcFtn5Wsqj"
      },
      "outputs": [],
      "source": [
        "embedding_dim=16\n",
        "\n",
        "'''\n",
        "GlobalAveragePooling1D\n",
        "Cada palabra tiene asociado un embedding. El ouput es la media de cada\n",
        "coordenada del embedding, por tanto, si hay 16 embeddings, hará un\n",
        "flatten a 16, siendo cada valor la media de la coordenada de ese\n",
        "embedding para todas las palabras de la review\n",
        "'''\n",
        "\n",
        "model = Sequential([\n",
        "  vectorize_layer, # 100 [1, 3, 4, 4, 90, ...]\n",
        "  Embedding(vocab_size, embedding_dim, name=\"embedding\"), # 10.000 x 16 --> [[], [], [] ...] 100x16\n",
        "  GlobalAveragePooling1D(), # [] 16\n",
        "  Dense(16, activation='relu'), #\n",
        "  Dense(1, activation = \"sigmoid\") # originalmente no tiene activacion\n",
        "])"
      ]
    },
    {
      "cell_type": "markdown",
      "metadata": {
        "id": "JjLNgKO7W2fe"
      },
      "source": [
        "### Ejercicio 10"
      ]
    },
    {
      "cell_type": "markdown",
      "metadata": {
        "id": "7OrKAKAKIbuH"
      },
      "source": [
        "Entrena el modelo usando un optimizador \"Adam\" y la función de perdida \"BinaryCrossEntropy\". Evalua contra test. Prueba con 15 épocas (es muy pesado el entrenamiento)."
      ]
    },
    {
      "cell_type": "code",
      "execution_count": 26,
      "metadata": {
        "id": "lCUgdP69Wzix"
      },
      "outputs": [],
      "source": [
        "model.compile(optimizer='adam',\n",
        "              # binary_crossentropy\n",
        "              loss=tf.keras.losses.BinaryCrossentropy(from_logits=False),\n",
        "              # https://stackoverflow.com/questions/61233425/what-should-i-use-as-target-vector-when-i-use-binarycrossentropyfrom-logits-tru\n",
        "              metrics=['accuracy'])"
      ]
    },
    {
      "cell_type": "code",
      "execution_count": 27,
      "metadata": {
        "colab": {
          "base_uri": "https://localhost:8080/"
        },
        "id": "5mQehiQyv8rP",
        "outputId": "2f9d91a0-1718-4eaf-9235-617630bf5f68"
      },
      "outputs": [
        {
          "name": "stdout",
          "output_type": "stream",
          "text": [
            "Epoch 1/15\n",
            "\u001b[1m20/20\u001b[0m \u001b[32m━━━━━━━━━━━━━━━━━━━━\u001b[0m\u001b[37m\u001b[0m \u001b[1m2s\u001b[0m 65ms/step - accuracy: 0.5432 - loss: 0.6917 - val_accuracy: 0.6874 - val_loss: 0.6848\n",
            "Epoch 2/15\n",
            "\u001b[1m20/20\u001b[0m \u001b[32m━━━━━━━━━━━━━━━━━━━━\u001b[0m\u001b[37m\u001b[0m \u001b[1m2s\u001b[0m 57ms/step - accuracy: 0.6792 - loss: 0.6827 - val_accuracy: 0.6988 - val_loss: 0.6721\n",
            "Epoch 3/15\n",
            "\u001b[1m20/20\u001b[0m \u001b[32m━━━━━━━━━━━━━━━━━━━━\u001b[0m\u001b[37m\u001b[0m \u001b[1m1s\u001b[0m 54ms/step - accuracy: 0.6983 - loss: 0.6688 - val_accuracy: 0.7166 - val_loss: 0.6539\n",
            "Epoch 4/15\n",
            "\u001b[1m20/20\u001b[0m \u001b[32m━━━━━━━━━━━━━━━━━━━━\u001b[0m\u001b[37m\u001b[0m \u001b[1m2s\u001b[0m 84ms/step - accuracy: 0.7242 - loss: 0.6479 - val_accuracy: 0.7382 - val_loss: 0.6294\n",
            "Epoch 5/15\n",
            "\u001b[1m20/20\u001b[0m \u001b[32m━━━━━━━━━━━━━━━━━━━━\u001b[0m\u001b[37m\u001b[0m \u001b[1m2s\u001b[0m 54ms/step - accuracy: 0.7462 - loss: 0.6202 - val_accuracy: 0.7566 - val_loss: 0.5993\n",
            "Epoch 6/15\n",
            "\u001b[1m20/20\u001b[0m \u001b[32m━━━━━━━━━━━━━━━━━━━━\u001b[0m\u001b[37m\u001b[0m \u001b[1m1s\u001b[0m 55ms/step - accuracy: 0.7717 - loss: 0.5864 - val_accuracy: 0.7762 - val_loss: 0.5652\n",
            "Epoch 7/15\n",
            "\u001b[1m20/20\u001b[0m \u001b[32m━━━━━━━━━━━━━━━━━━━━\u001b[0m\u001b[37m\u001b[0m \u001b[1m1s\u001b[0m 54ms/step - accuracy: 0.7897 - loss: 0.5483 - val_accuracy: 0.7904 - val_loss: 0.5309\n",
            "Epoch 8/15\n",
            "\u001b[1m20/20\u001b[0m \u001b[32m━━━━━━━━━━━━━━━━━━━━\u001b[0m\u001b[37m\u001b[0m \u001b[1m1s\u001b[0m 54ms/step - accuracy: 0.8027 - loss: 0.5102 - val_accuracy: 0.8008 - val_loss: 0.4998\n",
            "Epoch 9/15\n",
            "\u001b[1m20/20\u001b[0m \u001b[32m━━━━━━━━━━━━━━━━━━━━\u001b[0m\u001b[37m\u001b[0m \u001b[1m1s\u001b[0m 66ms/step - accuracy: 0.8144 - loss: 0.4754 - val_accuracy: 0.8104 - val_loss: 0.4733\n",
            "Epoch 10/15\n",
            "\u001b[1m20/20\u001b[0m \u001b[32m━━━━━━━━━━━━━━━━━━━━\u001b[0m\u001b[37m\u001b[0m \u001b[1m2s\u001b[0m 54ms/step - accuracy: 0.8225 - loss: 0.4451 - val_accuracy: 0.8156 - val_loss: 0.4514\n",
            "Epoch 11/15\n",
            "\u001b[1m20/20\u001b[0m \u001b[32m━━━━━━━━━━━━━━━━━━━━\u001b[0m\u001b[37m\u001b[0m \u001b[1m1s\u001b[0m 55ms/step - accuracy: 0.8314 - loss: 0.4191 - val_accuracy: 0.8204 - val_loss: 0.4338\n",
            "Epoch 12/15\n",
            "\u001b[1m20/20\u001b[0m \u001b[32m━━━━━━━━━━━━━━━━━━━━\u001b[0m\u001b[37m\u001b[0m \u001b[1m2s\u001b[0m 87ms/step - accuracy: 0.8389 - loss: 0.3970 - val_accuracy: 0.8212 - val_loss: 0.4197\n",
            "Epoch 13/15\n",
            "\u001b[1m20/20\u001b[0m \u001b[32m━━━━━━━━━━━━━━━━━━━━\u001b[0m\u001b[37m\u001b[0m \u001b[1m2s\u001b[0m 79ms/step - accuracy: 0.8471 - loss: 0.3779 - val_accuracy: 0.8228 - val_loss: 0.4085\n",
            "Epoch 14/15\n",
            "\u001b[1m20/20\u001b[0m \u001b[32m━━━━━━━━━━━━━━━━━━━━\u001b[0m\u001b[37m\u001b[0m \u001b[1m1s\u001b[0m 55ms/step - accuracy: 0.8537 - loss: 0.3614 - val_accuracy: 0.8238 - val_loss: 0.3994\n",
            "Epoch 15/15\n",
            "\u001b[1m20/20\u001b[0m \u001b[32m━━━━━━━━━━━━━━━━━━━━\u001b[0m\u001b[37m\u001b[0m \u001b[1m1s\u001b[0m 56ms/step - accuracy: 0.8583 - loss: 0.3469 - val_accuracy: 0.8270 - val_loss: 0.3921\n"
          ]
        },
        {
          "data": {
            "text/plain": [
              "<keras.src.callbacks.history.History at 0x7a12bcbb7cd0>"
            ]
          },
          "execution_count": 27,
          "metadata": {},
          "output_type": "execute_result"
        }
      ],
      "source": [
        "model.fit(\n",
        "    train_ds,\n",
        "    validation_data=val_ds,\n",
        "    epochs=15)"
      ]
    },
    {
      "cell_type": "code",
      "execution_count": 28,
      "metadata": {
        "colab": {
          "base_uri": "https://localhost:8080/"
        },
        "id": "9yK48BiWhEPs",
        "outputId": "8844427c-9748-4b37-dc1d-4c9f5ae5d3d6"
      },
      "outputs": [
        {
          "name": "stdout",
          "output_type": "stream",
          "text": [
            "Found 25000 files belonging to 2 classes.\n",
            "Using 20000 files for training.\n"
          ]
        }
      ],
      "source": [
        "test_ds = tf.keras.preprocessing.text_dataset_from_directory(\n",
        "    dataset_dir + \"/test/\",\n",
        "    batch_size=batch_size,\n",
        "    validation_split=0.2,\n",
        "    subset='training',\n",
        "    seed=seed)\n"
      ]
    },
    {
      "cell_type": "code",
      "execution_count": 29,
      "metadata": {
        "colab": {
          "base_uri": "https://localhost:8080/"
        },
        "id": "nA-GcvYzhEPs",
        "outputId": "1061b61b-f37a-437d-c0f6-1a3d5a8813f7"
      },
      "outputs": [
        {
          "name": "stdout",
          "output_type": "stream",
          "text": [
            "\u001b[1m20/20\u001b[0m \u001b[32m━━━━━━━━━━━━━━━━━━━━\u001b[0m\u001b[37m\u001b[0m \u001b[1m1s\u001b[0m 61ms/step - accuracy: 0.8118 - loss: 0.4164\n"
          ]
        },
        {
          "data": {
            "text/plain": [
              "[0.4098038077354431, 0.8150500059127808]"
            ]
          },
          "execution_count": 29,
          "metadata": {},
          "output_type": "execute_result"
        }
      ],
      "source": [
        "model.evaluate(test_ds)"
      ]
    },
    {
      "cell_type": "markdown",
      "metadata": {
        "id": "CmQnbW1-hEPs"
      },
      "source": [
        "### Bonus: Masking"
      ]
    },
    {
      "cell_type": "markdown",
      "metadata": {
        "id": "cmutnneUhEPt"
      },
      "source": [
        "Al limitar el tamaño de secuencia a 100, el modelo está intencionadamente evitando problemas de excesivo padding (las reviews seguramente son de más de 100 palabras), pero...  \n",
        "el coste es perder capacidad, porque a las 100 palabras ya toma una decisión.  \n",
        "Si quisieramos que leyese más de 100 palabras o todas, seguramente tendríamos secuencias con mucho padding, y para evitar el problema de este, usaríamos máscaras, con sólo cambiar esto (en la versión fácil)"
      ]
    },
    {
      "cell_type": "code",
      "execution_count": 30,
      "metadata": {
        "id": "9tB_bypkhEPt"
      },
      "outputs": [],
      "source": [
        "model = Sequential([\n",
        "  vectorize_layer, # 100 [1, 3, 4, 4, 90, ...]\n",
        "  Embedding(vocab_size, embedding_dim, name=\"embedding\", mask_zero = True), # <- la capa  Embedding admite mask, le estamos diciendo que si ve un zero lo ignore\n",
        "  GlobalAveragePooling1D(), # [] 16\n",
        "  Dense(16, activation='relu'), #\n",
        "  Dense(1) # originalmente no tiene activacion\n",
        "])"
      ]
    },
    {
      "cell_type": "markdown",
      "metadata": {
        "id": "tI4z3bTihEPt"
      },
      "source": [
        "Además la capa de Embedding le pasa la mascara a la siguiente capa (en este caso la GlobalAveragePooling1D) a través del argumento mask. Si la capa tiene ese argumento recibe la máscar y la trata como tenga programado.  \n",
        "En este caso GlobalAveragePooling1D ignora el elemento enmascarado y no lo incluye en la media.   \n",
        "\n",
        "Una capa recurrente si recibe una máscara ignora los elementos a 0 y para ese \"time_step\" para ese valor repite el último valor de hidden_state válido"
      ]
    },
    {
      "cell_type": "markdown",
      "metadata": {
        "id": "QwLUAQKkhEPt"
      },
      "source": [
        "¿Y si el valor a enmascarar no es cero? Podemos usar..."
      ]
    },
    {
      "cell_type": "markdown",
      "metadata": {
        "id": "H0mh-XB1hEPt"
      },
      "source": [
        "tf.keras.layers.Masking(mask_value=0.0, **kwargs)"
      ]
    },
    {
      "cell_type": "markdown",
      "metadata": {
        "id": "b5L4CzDOhEPt"
      },
      "source": [
        "mask_value es el valor que queremos \"saltarnos\" o \"enmascarar\""
      ]
    }
  ],
  "metadata": {
    "accelerator": "GPU",
    "colab": {
      "provenance": []
    },
    "kernelspec": {
      "display_name": "Python 3 (ipykernel)",
      "language": "python",
      "name": "python3"
    },
    "language_info": {
      "codemirror_mode": {
        "name": "ipython",
        "version": 3
      },
      "file_extension": ".py",
      "mimetype": "text/x-python",
      "name": "python",
      "nbconvert_exporter": "python",
      "pygments_lexer": "ipython3",
      "version": "3.11.9"
    },
    "vscode": {
      "interpreter": {
        "hash": "7600a12950a547366bb7a6732117e300ffd26224351912980486e1126c5d0f9a"
      }
    }
  },
  "nbformat": 4,
  "nbformat_minor": 0
}
