{
 "cells": [
  {
   "cell_type": "markdown",
   "id": "1f1401c1-4dc9-4902-95bf-160715a42a25",
   "metadata": {},
   "source": [
    "# Prueba de Ramp-up"
   ]
  },
  {
   "cell_type": "markdown",
   "id": "1b34c670-a6dd-482d-9b04-5babee7be17a",
   "metadata": {},
   "source": [
    "Antes de comenzar, cambia el nombre del archivo notebook poniéndole delante tu nombre y primer apellido:\n",
    "\n",
    "* nombre_apellido_examen_online_sprint1_2.ipynb"
   ]
  },
  {
   "cell_type": "code",
   "execution_count": 1,
   "id": "c8d9a657-272c-425a-9ac4-ea59f479673c",
   "metadata": {},
   "outputs": [],
   "source": [
    "# Escribe tu nombre en la variable:\n",
    "nombre_y_apellidos = \"\" "
   ]
  },
  {
   "cell_type": "code",
   "execution_count": 2,
   "id": "2e9f9af5-076c-44ec-9a80-95c0e99cdc58",
   "metadata": {},
   "outputs": [],
   "source": [
    "\"\"\"\n",
    "Criterios de corrección:\n",
    "\n",
    "ejecución (ausencia de errores y obtención de resultados)\n",
    "estructura del código\n",
    "uso correcto de variables\n",
    "manejo de tipo de variables\n",
    "asignaciones\n",
    "operaciones booleanas\n",
    "manejo lógico de flujos de control y bucles\n",
    "uso de colecciones\n",
    "uso de funciones\n",
    "\"\"\";\n",
    "\n",
    "# Ejemplo de como queremos ver el código para más de un intento:\n",
    "\n",
    "# intento 1\n",
    "#your code\n",
    "\n",
    "# intento 2\n",
    "#your code"
   ]
  },
  {
   "cell_type": "code",
   "execution_count": 3,
   "id": "bb16d0e3-3bb9-4f2b-944e-8fc35e628701",
   "metadata": {},
   "outputs": [],
   "source": [
    "# crea todas las celdas que necesites"
   ]
  },
  {
   "cell_type": "markdown",
   "id": "9e02b8f5-6f66-4e73-acfa-7f8c3977de2a",
   "metadata": {},
   "source": [
    "#### Notas y pruebas de apoyo para contestar las preguntas\n",
    "\n",
    "\n",
    "Cualquier código aunque no esté correcto nos dirá más de ti que no escribir nada. "
   ]
  },
  {
   "cell_type": "markdown",
   "id": "57d6b062-27f8-4377-b583-d662777b0bd7",
   "metadata": {},
   "source": [
    "__Debes subir tu examen resuelto a tu repo de GitHub cuando haya acabado este team challenge__"
   ]
  },
  {
   "cell_type": "markdown",
   "id": "062d81e8",
   "metadata": {},
   "source": [
    "#### Ejercicio 1\n",
    "\n",
    "Disponemos de una lista con información sobre varios empleados:\n",
    "\n",
    "    empleados = [[12345, \"Juan Rodríguez\", 53, [\"Director financiero\"], 2],[56789, \"Laura Pérez\", 41, [\"CEO\", \"Director\", \"Gerente\"], 2],[88354, \"Pedro Álvarez\", 26, [\"Asistente\",\"Gestor comercial\"], 3]]\n",
    "\n",
    "Respecto de cada empleado, la lista contiene cinco elementos: en el primero almacenamos su tfno, en el segundo su nombre, en el tercero su edad, en el cuarto los puestos que ha desempeñado en la empresa (en forma de lista) y en el quinto su código postal.\n",
    "\n",
    "1. Siguiendo la misma estructura, incluye un nuevo empleado en la última posición de la lista empleados.\n",
    "\n",
    "2. Mostrar por pantalla, sin uso de funciones (salvo print) ni bucles: \n",
    "\n",
    "    - El nombre y la edad del tercer empleado de la lista empleados.\n",
    "    - Los puestos desempeñados por Pedro Álvarez, ordenados de atras a adelante (es decir, de Gestor comercial a Asistente)\n",
    "    - Si el nuevo empleado que has añadido tiene más o igual a 60 años, muestra por pantalla los puestos que el nuevo empleado haya desempeñado en la empresa. En caso contrario, muestra los puestos desempeñados por Laura Pérez y Juan Rodriguez."
   ]
  },
  {
   "cell_type": "code",
   "execution_count": 4,
   "id": "ae316b4b",
   "metadata": {},
   "outputs": [
    {
     "name": "stdout",
     "output_type": "stream",
     "text": [
      "[[12345, 'Juan Rodríguez', 53, ['Director financiero'], 2], [56789, 'Laura Pérez', 41, ['CEO', 'Director', 'Gerente'], 2], [88354, 'Pedro Álvarez', 26, ['Asistente', 'Gestor comercial'], 3], [1234, 'Marina Gómez', 22, ['Asistente'], 1]]\n",
      "El tercer empleado se llama Pedro Álvarez y tiene 26 años\n",
      "['Gestor comercial', 'Asistente']\n",
      "Puestos desempeñados por Laura Pérez ['CEO', 'Director', 'Gerente']\n",
      "Puestos desempeñados por Juan Rodriguez ['Director financiero']\n"
     ]
    }
   ],
   "source": [
    "empleados = [[12345, \"Juan Rodríguez\", 53, [\"Director financiero\"], 2],[56789, \"Laura Pérez\", 41, [\"CEO\", \"Director\", \"Gerente\"], 2],[88354, \"Pedro Álvarez\", 26, [\"Asistente\",\"Gestor comercial\"], 3]]\n",
    "\n",
    "#1\n",
    "empleados.append([1234, \"Marina Gómez\", 22,[\"Asistente\"], 1])\n",
    "print(empleados)\n",
    "\n",
    "#2\n",
    "\n",
    "print(\"El tercer empleado se llama\",empleados[2][1],\"y tiene\",empleados[2][2],\"años\")\n",
    "\n",
    "print(empleados[-2][-2][-1::-1])\n",
    "\n",
    "\n",
    "if empleados[-1][2] >= 60:\n",
    "    print(empleados[-1][-2])\n",
    "\n",
    "else:\n",
    "    print(f\"Puestos desempeñados por Laura Pérez {empleados[1][-2]}\")\n",
    "    print(f\"Puestos desempeñados por Juan Rodriguez {empleados[0][-2]}\")\n"
   ]
  },
  {
   "cell_type": "markdown",
   "id": "4da89624-0da3-4f91-aa5c-a084c5ee1b17",
   "metadata": {},
   "source": [
    "#### Ejercicio 2. \n",
    "\n",
    "Escribe un programa que te diga si una letra es una consonante o una vocal. Crea tu propia **FUNCIÓN**\n"
   ]
  },
  {
   "cell_type": "code",
   "execution_count": 5,
   "id": "c58bf610-92de-4a5a-a00d-652279ea33dd",
   "metadata": {},
   "outputs": [
    {
     "name": "stdout",
     "output_type": "stream",
     "text": [
      "f es una consonante.\n"
     ]
    }
   ],
   "source": [
    "def dame_letra():\n",
    "\n",
    "    l = input(\"Letra: \")\n",
    "\n",
    "    if l in ('a', 'e', 'i', 'o', 'u'):\n",
    "        print(\"%s es una vocal.\" % l)\n",
    "    else:\n",
    "        print(\"%s es una consonante.\" % l) \n",
    "        \n",
    "dame_letra()"
   ]
  },
  {
   "cell_type": "markdown",
   "id": "52065a6c-3d4c-44c0-a10b-958506c481b3",
   "metadata": {},
   "source": [
    "#### Ejercicio 3. \n",
    "\n",
    "Escribe un programa que calcule la edad humana de un perro.\n",
    "Tienes que pedirle al usuario la edad del perro en años.\n",
    "Si el usuario introduce un número negativo, imprime que la cifra facilitada no tiene sentido. Si el perro tiene un año, son 14 años humanos. Si tiene 2 años, son 22 años humanos.\n",
    "A partir de los 2 años, el cálculo es el siguiente: a la edad del perro se le restan 2 años, el resultado se multiplica por 5 y, finalmente, se le suma 22.\n",
    "Usa una función sin argumentos de entrada ni de salida (muestra toda la información con print())"
   ]
  },
  {
   "cell_type": "code",
   "execution_count": 6,
   "id": "9c59c801-1fe1-4a6d-a000-f85ca738ed00",
   "metadata": {},
   "outputs": [
    {
     "name": "stdout",
     "output_type": "stream",
     "text": [
      "\n",
      "Edad humana 72\n"
     ]
    }
   ],
   "source": [
    "def edad_perro_humana():\n",
    "\n",
    "    edad = int(input(\"Edad del perro: \"))\n",
    "    print()\n",
    "    if edad < 0:\n",
    "        print(\"No tiene sentido\")\n",
    "    elif edad == 1:\n",
    "        print(\"Tiene sobre 14 años\")\n",
    "    elif edad == 2:\n",
    "        print(\"Tiene sobre 22 años\")\n",
    "    elif edad > 2:\n",
    "        humana = 22 + (edad - 2) * 5\n",
    "        print(\"Edad humana\", humana)\n",
    "\n",
    "edad_perro_humana()\n"
   ]
  },
  {
   "cell_type": "markdown",
   "id": "2991309f-4208-431a-900c-d9bc734bb936",
   "metadata": {},
   "source": [
    "#### Ejercicio 4. \n",
    "\n",
    "Escribe un programa que te diga si una frase es un pangrama. Un pangrama es una frase que contiene todas las letras del alfabeto.\n",
    "Puedes tener espacios en blanco, pero NO  tendrás signos de puntuación, a excepción de las tildes.\n",
    "\n",
    "Ejemplo de pangrama:\n",
    "\n",
    "Extraño pan de col y kiwi se quemó bajo fugaz vaho "
   ]
  },
  {
   "cell_type": "code",
   "execution_count": 8,
   "id": "9a349c1e-15ab-4253-97f8-2a07a263791d",
   "metadata": {},
   "outputs": [
    {
     "name": "stdout",
     "output_type": "stream",
     "text": [
      "True\n"
     ]
    }
   ],
   "source": [
    "def es_pangrama(str1):\n",
    "    letras = set(str1.replace(\" \", \"\").lower().replace(\"á\", \"a\").replace(\"é\", \"e\").replace(\"í\", \"i\").replace(\"ó\", \"o\").replace(\"ú\", \"u\"))\n",
    "    return len(letras) == 27\n",
    " \n",
    "print ( es_pangrama('Extraño pan de col y kiwi se quemó bajo fugaz vaho ')) \n"
   ]
  },
  {
   "cell_type": "markdown",
   "id": "3dbb76e0-79b2-45e8-9034-58ee9cbd82bb",
   "metadata": {},
   "source": [
    "#### Ejercicio 5. \n",
    "\n",
    "Escribe un programa que use diccionarios para traducir palabras entre varios idiomas.\n",
    "Deberás pedirle al usuario una palabra por teclado, ver si está en tu diccionario. En caso de que esté, deberás mostrar la traducción de esa palabra.\n",
    "\n",
    "Ejemplo de diccionario:\n",
    "\n",
    "```python\n",
    "{\"file\": \"Fichier\", \"new\": \"Nouveau\", \"open\": \"Ouvrir\", \"save\": \"Enregistrer\", \"save as\": \"Enregistrer sous\", \"print preview\": \"Apercu avant impressioner\", \"print\": \"Imprimer\", \"close\": \"Fermer\", \"exit\": \"Quitter\"}\n"
   ]
  },
  {
   "cell_type": "code",
   "execution_count": 9,
   "id": "88236123-e8ac-45da-87d0-134a88a690c1",
   "metadata": {},
   "outputs": [
    {
     "name": "stdout",
     "output_type": "stream",
     "text": [
      "La palabra no está en el diccionario\n"
     ]
    }
   ],
   "source": [
    "menu = {\"fr\": {\"file\": \"Fichier\", \"new\": \"Nouveau\", \"open\": \"Ouvrir\", \"save\": \"Enregistrer\", \"save as\": \"Enregistrer sous\", \"print preview\": \"Apercu avant impressioner\", \"print\": \"Imprimer\", \"close\": \"Fermer\", \"exit\": \"Quitter\"},\n",
    "        \"de\": {\"file\": \"Datei\", \"new\": \"Neu\", \"open\": \"Ã–ffnen\", \"save\": \"Speichern\", \"save as\": \"Speichern unter\", \"print preview\": \"Druckansicht\", \"print\": \"Drucken\", \"close\": \"SchlieÃŸen\", \"exit\": \"Verlassen\"},\n",
    "        \"it\": {\"file\": \"File\", \"new\": \"Nuovo\", \"open\": \"Apri\", \"save\": \"Salva\", \"save as\": \"Salva come\", \"print preview\": \"Anteprima di stampa\", \"print\": \"Stampa\", \"close\": \"Chiudi\", \"exit\": \"Esci\"}\n",
    "        }\n",
    "language = input(\"¿qué idioma?: \")\n",
    "palabra = input(\"¿qué palabra?: \")\n",
    "  \n",
    "\n",
    "def traductor(menu, palabra, language):\n",
    "    \n",
    "    current_dic = menu[language]\n",
    "    if palabra not in current_dic:\n",
    "        print(\"La palabra no está en el diccionario\")\n",
    "        return None\n",
    "    else:\n",
    "            print(palabra, \" -->\", current_dic[palabra])\n",
    "            return current_dic[palabra]\n",
    "        \n",
    "traductor(menu, palabra, language)\n",
    "        \n",
    "   "
   ]
  },
  {
   "cell_type": "markdown",
   "id": "61967ca4-7e06-44b3-ad7b-adbc0e71671a",
   "metadata": {},
   "source": [
    "#### Ejercicio 6.\n",
    "\n",
    "Usando objetos modela un theremin (es un instrumento musical que se toca modificando el campo electromagnético, por si tenías curiosidad).\n",
    "Tendrá de atributos la marca, el modelo, el peso, la potencia y la batería.\n",
    "\n",
    "Todos los instrumentos se crean con un peso predeterminado de 500, una potencia de 50 y una batería de 200.\n",
    "\n",
    "Cuando se recarga la batería vale 200.\n",
    "\n",
    "Cuando se toca, se muestra por pantalla que está sonando y la batería disminuye 10 (no siendo nunca negativo).\n",
    "Si no hay batería, no puede sonar. Crea un instrumento, tócalo mientras quede batería, cárgalo y no lo vuelvas a tocar.\n"
   ]
  },
  {
   "cell_type": "code",
   "execution_count": 10,
   "id": "8082c8cd-03a9-478e-aa72-4ec1306e1bb2",
   "metadata": {},
   "outputs": [
    {
     "name": "stdout",
     "output_type": "stream",
     "text": [
      "El theremin modelo_molon está tocando.\n",
      "El theremin modelo_molon está tocando.\n",
      "El theremin modelo_molon está tocando.\n",
      "El theremin modelo_molon está tocando.\n",
      "El theremin modelo_molon está tocando.\n",
      "El theremin modelo_molon está tocando.\n",
      "El theremin modelo_molon está tocando.\n",
      "El theremin modelo_molon está tocando.\n",
      "El theremin modelo_molon está tocando.\n",
      "El theremin modelo_molon está tocando.\n",
      "El theremin modelo_molon está tocando.\n",
      "El theremin modelo_molon está tocando.\n",
      "El theremin modelo_molon está tocando.\n",
      "El theremin modelo_molon está tocando.\n",
      "El theremin modelo_molon está tocando.\n",
      "El theremin modelo_molon está tocando.\n",
      "El theremin modelo_molon está tocando.\n",
      "El theremin modelo_molon está tocando.\n",
      "El theremin modelo_molon está tocando.\n",
      "El theremin modelo_molon está tocando.\n",
      "El theremin modelo_molon no tiene batería.\n",
      "Bateria llena.\n"
     ]
    }
   ],
   "source": [
    "class Theremin:\n",
    "    def __init__(self, marca, modelo):\n",
    "        self.marca = marca\n",
    "        self.modelo = modelo\n",
    "        self.peso = 500\n",
    "        self.potencia = 50\n",
    "        self.bateria = 200\n",
    "\n",
    "    def recarga(self):\n",
    "        self.bateria = 200\n",
    "        print('Bateria llena.')\n",
    "\n",
    "    def toca(self):\n",
    "        \n",
    "        if self.bateria -10 >= 0 :\n",
    "            print(f'El theremin {self.modelo} está tocando.')\n",
    "            self.bateria = self.bateria - 10\n",
    "        else:\n",
    "            print(f'El theremin {self.modelo} no tiene batería.')\n",
    "\n",
    "mi_instrumento = Theremin(modelo = \"modelo_molon\", marca = \"marca_molona\")\n",
    "while mi_instrumento.bateria > 0:\n",
    "    mi_instrumento.toca()\n",
    "\n",
    "mi_instrumento.toca()\n",
    "mi_instrumento.recarga()\n"
   ]
  },
  {
   "cell_type": "markdown",
   "id": "30f773b5-a6da-4446-b36b-722b2ee57730",
   "metadata": {},
   "source": [
    "#### Ejercicio 7 EXTRA, NO PUNTÚA\n",
    "Una empresa usa dos listas  para guardar la información de sus empleados. Una lista guarda el nombre del empleado y la otra guarda su salario. Escribe un programa que cree esas dos listas originalmente vacías y que a través de un menú pueda hacer lo siguiente:\n",
    "    \n",
    "Inserta 1 para añadir un nuevo empleado y su salario\n",
    "\n",
    "Inserta 2 para imprimir los nombres y salarios de todos los empleados\n",
    "\n",
    "Inserta 3 para mostrar el número de empleados\n",
    "\n",
    "Inserta 4 para imprimir los nombres de los empleados con sueldos superiores a 400000\n",
    "\n",
    "Inserta 5 para subir un 5% los sueldos por debajo de 10000\n",
    "\n",
    "Inserta 6 para mostrar el total de todos los salarios\n",
    "\n",
    "Inserta 7 para salir del programa"
   ]
  },
  {
   "cell_type": "code",
   "execution_count": 11,
   "id": "67858e27-b7f5-4e05-bc50-3fca698ad22a",
   "metadata": {},
   "outputs": [
    {
     "name": "stdout",
     "output_type": "stream",
     "text": [
      "\n",
      "\n",
      "¡Bienvenido!\n",
      "\n",
      "Inserta 1 para añadir un nuevo empleado y su salario\n",
      "Inserta 2 para imprimir los nombres y salarios de todos los empleados\n",
      "Inserta 3 para mostrar el número de empleados\n",
      "Inserta 4 para imprimir los nombres de los empleados con sueldos superiores a 400000\n",
      "Inserta 5 para subir un 5% los sueldos por debajo de 10000\n",
      "Inserta 6 para mostrar el total de todos los salarios\n",
      "Inserta 7 para salir del programa\n",
      "\n",
      "    \n",
      "\n",
      "Suma de todos los sueldos:  10000\n",
      "\n",
      "Cantidad de empleados:  1\n",
      "\n",
      "¡Gracias por usar el programa!\n"
     ]
    }
   ],
   "source": [
    "# una lista para nombres y una lista para sueldos\n",
    "lista_nombres = []\n",
    "lista_salarios = []\n",
    "\n",
    "# insertamos nuevos nombre-salario\n",
    "def nuevo_empleado(nombre, salario):\n",
    "    lista_nombres.append(nombre)\n",
    "    lista_salarios.append(salario)\n",
    "\n",
    "# imprimimos todos los nombre-salario\n",
    "def imprime_empleados():\n",
    "    for posicion in range(len(lista_nombres)):\n",
    "        print(\"Nombre: \", lista_nombres[posicion], end = \" \")\n",
    "        print(\"Sueldo: \", lista_salarios[posicion], end = \"\\n\")\n",
    "\n",
    "# imprimir cantidad de empleados\n",
    "def imprime_cantidad_empleados():\n",
    "    print(\"Cantidad de empleados: \", len(lista_nombres))\n",
    "\n",
    "# imprimir empleados con salarios mayores de 40 000 dolares\n",
    "def sueldos_altos():\n",
    "\n",
    "    print(\"Sueldos mayores de 40000:\")\n",
    "\n",
    "    # recorro la lista de sueldos\n",
    "    for posicion in range(len(lista_nombres)):\n",
    "\n",
    "        # si ese sueldo es mayor de 40 000, cojo el nombre\n",
    "        if lista_salarios[posicion] > 40000:\n",
    "            print(lista_nombres[posicion])\n",
    "\n",
    "\n",
    "# dar un aumento de un 10% a los sueldos menores de 10 000\n",
    "def aumento():\n",
    "    # recorro la lista de sueldos\n",
    "    for posicion in range(len(lista_salarios)):\n",
    "        if lista_salarios[posicion] < 10000:\n",
    "            lista_salarios[posicion] = lista_salarios[posicion] * 1.1\n",
    "\n",
    "    print(\"¡Los sueldos bajos se han subido!\")\n",
    "\n",
    "\n",
    "\n",
    "\n",
    "# imprimir la suma total de todos los sueldos\n",
    "def masa_salarial():\n",
    "    total = sum(lista_salarios)\n",
    "    print(\"Suma de todos los sueldos: \", total)\n",
    "\n",
    "# menu\n",
    "def menu():\n",
    "\n",
    "    mensaje_inicial = \"\"\"\n",
    "\n",
    "¡Bienvenido!\n",
    "\n",
    "Inserta 1 para añadir un nuevo empleado y su salario\n",
    "Inserta 2 para imprimir los nombres y salarios de todos los empleados\n",
    "Inserta 3 para mostrar el número de empleados\n",
    "Inserta 4 para imprimir los nombres de los empleados con sueldos superiores a 400000\n",
    "Inserta 5 para subir un 5% los sueldos por debajo de 10000\n",
    "Inserta 6 para mostrar el total de todos los salarios\n",
    "Inserta 7 para salir del programa\n",
    "\n",
    "    \"\"\"\n",
    "    \n",
    "    print(mensaje_inicial)\n",
    "\n",
    "    opcion = int(input(\"Inserta option: \"))\n",
    "    while opcion != 7:\n",
    "        if opcion == 1:\n",
    "            nombre = input(\"Nombre de empleado: \")\n",
    "            salario = int(input(\"Salario: \"))\n",
    "\n",
    "            nuevo_empleado(nombre, salario)\n",
    "\n",
    "        elif opcion == 2:\n",
    "            imprime_empleados()\n",
    "\n",
    "        elif opcion == 3:\n",
    "            imprime_cantidad_empleados()\n",
    "\n",
    "        elif opcion == 4:\n",
    "            sueldos_altos()\n",
    "\n",
    "        elif opcion == 5:\n",
    "            aumento()\n",
    "\n",
    "        elif opcion == 6:\n",
    "            masa_salarial()\n",
    "\n",
    "        print() # nueva linea\n",
    "        opcion = int(input(\"Inserta opcion: \"))\n",
    "\n",
    "    print(\"¡Gracias por usar el programa!\")\n",
    "\n",
    "# ejecutamos el programa\n",
    "menu()"
   ]
  },
  {
   "cell_type": "markdown",
   "id": "e33a0e21-476e-4103-b889-a6b3e76b99f3",
   "metadata": {},
   "source": [
    "\n",
    "####  Ejercicio 8, EXTRA, NO PUNTÚA.\n",
    "\n",
    "Escribe un programa que __USE RECURSIVIDAD__ para decidir cuál es la película de Pixar favorita de un usuario.\n",
    "El programa preguntará al usuario cuál de 2 películas es su favorita, y con esa favorita se le volverá a preguntar entre esa y otra película cuál es su favorita...y así hasta que el usuario haya decidido de entre todas cuál es su favorita.\n",
    "\n",
    "Pista: si no quieres cambiar una lista, usa copy() y tendrás una copia que es otro objeto\n",
    "\n"
   ]
  },
  {
   "cell_type": "code",
   "execution_count": 12,
   "id": "c9936fd4-6d29-4535-9f34-a6f289d18d8b",
   "metadata": {},
   "outputs": [
    {
     "name": "stdout",
     "output_type": "stream",
     "text": [
      "Si prefieres Toy Story marca 1, si prefieres Soul marca 2: 1\n",
      "Prefieres Toy Story\n",
      "Si prefieres Toy Story marca 1, si prefieres Up marca 2: 2\n",
      "Prefieres Up\n",
      "Si prefieres Up marca 1, si prefieres Coco marca 2: 2\n",
      "Prefieres Coco\n",
      "Si prefieres Coco marca 1, si prefieres Luca marca 2: 1\n",
      "Prefieres Coco\n",
      "Si prefieres Coco marca 1, si prefieres Monsters marca 2: 2\n",
      "Prefieres Monsters\n",
      "Si prefieres Monsters marca 1, si prefieres Inside Out marca 2: 1\n",
      "Prefieres Monsters\n",
      "Si prefieres Monsters marca 1, si prefieres WallE marca 2: 2\n",
      "Prefieres WallE\n",
      "Si prefieres WallE marca 1, si prefieres Buscando a Nemo marca 2: 2\n",
      "Prefieres Buscando a Nemo\n",
      "Si prefieres Buscando a Nemo marca 1, si prefieres Los increíbles marca 2: 1\n",
      "Prefieres Buscando a Nemo\n",
      "\n",
      "Prefieres finalmente Buscando a Nemo\n"
     ]
    }
   ],
   "source": [
    "lista_pelis_original = [\"Toy Story\", \"Soul\", \"Up\", \"Coco\", \"Luca\", \"Monsters\", \"Inside Out\", \"WallE\", \"Buscando a Nemo\", \"Los increíbles\"]\n",
    "seleccion = lista_pelis_original.copy() # para no modificar la primera\n",
    "\n",
    "def elige_entre_dos(lista):\n",
    "    if len(lista) == 1:\n",
    "        return lista\n",
    "    \n",
    "    elif len(lista) >=2:\n",
    "    \n",
    "        marcado = int(input(\"Si prefieres \"+ lista[0]+ \" marca 1, si prefieres \" + lista[1] +\" marca 2: \"))\n",
    "        print(\"Si prefieres \"+ lista[0]+ \" marca 1, si prefieres \" + lista[1] +\" marca 2: \" + str(marcado))\n",
    "        if marcado == 1:\n",
    "            print(\"Prefieres \" + lista[0])\n",
    "            lista.pop(1) # si elijo el 2, quito el 1\n",
    "        else:\n",
    "            print(\"Prefieres \" + lista[1])\n",
    "            lista.pop(0) # si elijo el 1, quito el 2\n",
    "        return lista\n",
    "    \n",
    "def elige(seleccion):\n",
    "    if len(seleccion) == 1:\n",
    "        return \"\\nPrefieres finalmente \" + seleccion[0]\n",
    "    else:\n",
    "        elige_entre_dos(seleccion)\n",
    "        \n",
    "    return elige(seleccion)\n",
    "\n",
    "print(elige(seleccion))\n",
    "\n",
    "\n",
    "            "
   ]
  },
  {
   "cell_type": "code",
   "execution_count": null,
   "id": "e0264a74-638f-4a82-95a0-cddee11253b7",
   "metadata": {},
   "outputs": [],
   "source": []
  },
  {
   "cell_type": "code",
   "execution_count": 1,
   "id": "10a7b881",
   "metadata": {},
   "outputs": [],
   "source": [
    "# FIN DEL EXAMEN\n",
    "\n"
   ]
  }
 ],
 "metadata": {
  "kernelspec": {
   "display_name": "Python 3 (ipykernel)",
   "language": "python",
   "name": "python3"
  },
  "language_info": {
   "codemirror_mode": {
    "name": "ipython",
    "version": 3
   },
   "file_extension": ".py",
   "mimetype": "text/x-python",
   "name": "python",
   "nbconvert_exporter": "python",
   "pygments_lexer": "ipython3",
   "version": "3.12.3"
  },
  "vscode": {
   "interpreter": {
    "hash": "252189e587d1e2aeba4a06e91fa71896c7a7f6e22e918b9407c7cde4ef2d5985"
   }
  }
 },
 "nbformat": 4,
 "nbformat_minor": 5
}
